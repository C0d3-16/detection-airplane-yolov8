{
  "nbformat": 4,
  "nbformat_minor": 0,
  "metadata": {
    "colab": {
      "provenance": []
    },
    "kernelspec": {
      "name": "python3",
      "display_name": "Python 3"
    },
    "language_info": {
      "name": "python"
    },
    "accelerator": "GPU",
    "gpuClass": "standard"
  },
  "cells": [
    {
      "cell_type": "code",
      "execution_count": 1,
      "metadata": {
        "id": "Dob4YRhec9Fm",
        "colab": {
          "base_uri": "https://localhost:8080/"
        },
        "outputId": "14b639e5-5aa2-44ed-d4dc-4f16e979eae8"
      },
      "outputs": [
        {
          "output_type": "stream",
          "name": "stdout",
          "text": [
            "Mounted at /content/gdrive\n"
          ]
        }
      ],
      "source": [
        "# Permitira conectarse a nuestro Google Drive\n",
        "from google.colab import drive\n",
        "\n",
        "drive.mount('/content/gdrive')"
      ]
    },
    {
      "cell_type": "code",
      "source": [
        "# Definimos el directorio principal del proyecto\n",
        "\n",
        "ROOT_DIR = '/content/gdrive/MyDrive/detection-airplane'"
      ],
      "metadata": {
        "id": "xBHfolzSdnR5"
      },
      "execution_count": 2,
      "outputs": []
    },
    {
      "cell_type": "code",
      "source": [
        "!pip install ultralytics"
      ],
      "metadata": {
        "id": "i8yghpa4eEjd"
      },
      "execution_count": null,
      "outputs": []
    },
    {
      "cell_type": "code",
      "source": [
        "import os\n",
        "\n",
        "from ultralytics import YOLO\n",
        "\n",
        "# Cargamos el modelo yolov8\n",
        "model = YOLO(\"yolov8n.pt\")  # load pre trained model\n",
        "\n",
        "# Usamos el modelo de entrenamiento con la ruta del .yml\n",
        "results = model.train(data=os.path.join(ROOT_DIR, \"google_colab_config.yaml\"), epochs=30)\n"
      ],
      "metadata": {
        "id": "oyZJX6PVfE7J"
      },
      "execution_count": null,
      "outputs": []
    },
    {
      "cell_type": "code",
      "source": [
        "# Luego de que el modelo haya sido entrenado con el dataset, este comando hara un test o validacion de imagenes\n",
        "# no entrenadas anteriormente y guardara los resultados.\n",
        "\n",
        "!yolo task=detect mode=predict model=/content/runs/detect/train/weights/best.pt conf=0.4 source=/content/gdrive/MyDrive/detection-airplane/test/images"
      ],
      "metadata": {
        "id": "qDCDFmyMbM8n"
      },
      "execution_count": null,
      "outputs": []
    },
    {
      "cell_type": "code",
      "source": [
        "import shutil\n",
        "\n",
        "# Ruta de origen y destino de las carpetas a las que queremos transportar a nuestro Google Drive\n",
        "source_dir = '/content/runs/detect/predict'\n",
        "destination_dir = '/content/gdrive/MyDrive/predict'\n",
        "\n",
        "# Copia del directorio\n",
        "shutil.copytree(source_dir, destination_dir)"
      ],
      "metadata": {
        "id": "hbUDdF1Jk5rE"
      },
      "execution_count": null,
      "outputs": []
    }
  ]
}